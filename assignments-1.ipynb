{
 "cells": [
  {
   "cell_type": "code",
   "execution_count": 2,
   "id": "4d218c06-54ee-48b5-a9f4-a8e94ca88474",
   "metadata": {},
   "outputs": [
    {
     "data": {
      "text/plain": [
       "str"
      ]
     },
     "execution_count": 2,
     "metadata": {},
     "output_type": "execute_result"
    }
   ],
   "source": [
    "type(s)"
   ]
  },
  {
   "cell_type": "code",
   "execution_count": 3,
   "id": "4380f1a8-e93f-4f6c-81b0-ae9880bc7364",
   "metadata": {},
   "outputs": [],
   "source": [
    "l = [2,3,4,5,6,\"sudh\",]"
   ]
  },
  {
   "cell_type": "code",
   "execution_count": 4,
   "id": "e7e6786c-b05a-40ef-89b9-a5108288d7fe",
   "metadata": {},
   "outputs": [
    {
     "data": {
      "text/plain": [
       "list"
      ]
     },
     "execution_count": 4,
     "metadata": {},
     "output_type": "execute_result"
    }
   ],
   "source": [
    "type(l)"
   ]
  },
  {
   "cell_type": "code",
   "execution_count": 7,
   "id": "b5b102f6-46f9-4be7-a711-ecfb67f02eac",
   "metadata": {},
   "outputs": [],
   "source": [
    "t = (34.56,67.89)"
   ]
  },
  {
   "cell_type": "code",
   "execution_count": 8,
   "id": "310c0edc-aa99-401c-9c0d-4d0398b7f4b4",
   "metadata": {},
   "outputs": [
    {
     "data": {
      "text/plain": [
       "tuple"
      ]
     },
     "execution_count": 8,
     "metadata": {},
     "output_type": "execute_result"
    }
   ],
   "source": [
    "type(t)"
   ]
  },
  {
   "cell_type": "code",
   "execution_count": 11,
   "id": "7a0c5d76-29d7-4c4b-a657-1f755f0cfa0d",
   "metadata": {},
   "outputs": [],
   "source": [
    "f = 45.67"
   ]
  },
  {
   "cell_type": "code",
   "execution_count": 12,
   "id": "2ccf4c31-622c-4eda-8f7e-15fc4d03c790",
   "metadata": {},
   "outputs": [
    {
     "data": {
      "text/plain": [
       "float"
      ]
     },
     "execution_count": 12,
     "metadata": {},
     "output_type": "execute_result"
    }
   ],
   "source": [
    "type(f)"
   ]
  },
  {
   "cell_type": "code",
   "execution_count": 13,
   "id": "288b4d30-4def-4636-8fdf-b7ad9b57b991",
   "metadata": {},
   "outputs": [],
   "source": [
    "varl = ''"
   ]
  },
  {
   "cell_type": "code",
   "execution_count": 14,
   "id": "8e2bf8e1-7a78-4626-ad6a-f64f2fc8920f",
   "metadata": {},
   "outputs": [
    {
     "data": {
      "text/plain": [
       "str"
      ]
     },
     "execution_count": 14,
     "metadata": {},
     "output_type": "execute_result"
    }
   ],
   "source": [
    "type(varl)"
   ]
  },
  {
   "cell_type": "code",
   "execution_count": 15,
   "id": "35cf93b8-8fa6-49b2-9479-39da06d0ce6d",
   "metadata": {},
   "outputs": [],
   "source": [
    "var2 = '[DS,ML,PYTHON]'"
   ]
  },
  {
   "cell_type": "code",
   "execution_count": 16,
   "id": "f79d49dd-9804-44b2-bd68-fcbe181c3b8a",
   "metadata": {},
   "outputs": [
    {
     "data": {
      "text/plain": [
       "str"
      ]
     },
     "execution_count": 16,
     "metadata": {},
     "output_type": "execute_result"
    }
   ],
   "source": [
    "type(var2)"
   ]
  },
  {
   "cell_type": "code",
   "execution_count": 17,
   "id": "c1b1142d-b5de-444c-84a4-aea330fb042e",
   "metadata": {},
   "outputs": [],
   "source": [
    "var3 = ['DS','ML','PYTHON']"
   ]
  },
  {
   "cell_type": "code",
   "execution_count": 18,
   "id": "e0703ee6-f2f8-4297-bc03-90163a19e39c",
   "metadata": {},
   "outputs": [
    {
     "data": {
      "text/plain": [
       "list"
      ]
     },
     "execution_count": 18,
     "metadata": {},
     "output_type": "execute_result"
    }
   ],
   "source": [
    "type(var3)"
   ]
  },
  {
   "cell_type": "code",
   "execution_count": 19,
   "id": "e302ef38-9496-4831-94e8-01f80e6a70b3",
   "metadata": {},
   "outputs": [],
   "source": [
    "var4 = 1"
   ]
  },
  {
   "cell_type": "code",
   "execution_count": 20,
   "id": "e0360b54-30cb-4bba-b223-d6873dccc416",
   "metadata": {},
   "outputs": [
    {
     "data": {
      "text/plain": [
       "int"
      ]
     },
     "execution_count": 20,
     "metadata": {},
     "output_type": "execute_result"
    }
   ],
   "source": [
    "type(var4)"
   ]
  },
  {
   "cell_type": "code",
   "execution_count": 21,
   "id": "faacda7d-cb12-4ed7-a1a7-ea919cf9647b",
   "metadata": {},
   "outputs": [
    {
     "data": {
      "text/plain": [
       "2.0"
      ]
     },
     "execution_count": 21,
     "metadata": {},
     "output_type": "execute_result"
    }
   ],
   "source": [
    "4/2"
   ]
  },
  {
   "cell_type": "code",
   "execution_count": 22,
   "id": "a3927d24-a5d4-445a-8c6b-29668fa95675",
   "metadata": {},
   "outputs": [
    {
     "data": {
      "text/plain": [
       "4"
      ]
     },
     "execution_count": 22,
     "metadata": {},
     "output_type": "execute_result"
    }
   ],
   "source": [
    "4%5"
   ]
  },
  {
   "cell_type": "code",
   "execution_count": 23,
   "id": "3a2b504f-86ed-4b94-bc1b-e47d704b6521",
   "metadata": {},
   "outputs": [
    {
     "data": {
      "text/plain": [
       "2"
      ]
     },
     "execution_count": 23,
     "metadata": {},
     "output_type": "execute_result"
    }
   ],
   "source": [
    "4//2"
   ]
  },
  {
   "cell_type": "code",
   "execution_count": 24,
   "id": "1776882e-e43e-49aa-8dc3-e4721f83c677",
   "metadata": {},
   "outputs": [
    {
     "data": {
      "text/plain": [
       "27"
      ]
     },
     "execution_count": 24,
     "metadata": {},
     "output_type": "execute_result"
    }
   ],
   "source": [
    "3**3"
   ]
  },
  {
   "cell_type": "code",
   "execution_count": 25,
   "id": "3f79987c-ec04-45b1-88d9-01000e9faa26",
   "metadata": {},
   "outputs": [],
   "source": [
    "l = [1,2,3,4,50,60,5+7j,\"pwskills\",\"sudhanshu\",34.56]"
   ]
  },
  {
   "cell_type": "code",
   "execution_count": 26,
   "id": "f2c1ba03-e23e-4dbe-9193-829607f77337",
   "metadata": {},
   "outputs": [
    {
     "data": {
      "text/plain": [
       "1"
      ]
     },
     "execution_count": 26,
     "metadata": {},
     "output_type": "execute_result"
    }
   ],
   "source": [
    "l[0]"
   ]
  },
  {
   "cell_type": "code",
   "execution_count": 27,
   "id": "3e7c909f-7ef6-4546-a238-446f77391b13",
   "metadata": {},
   "outputs": [
    {
     "data": {
      "text/plain": [
       "int"
      ]
     },
     "execution_count": 27,
     "metadata": {},
     "output_type": "execute_result"
    }
   ],
   "source": [
    "type(l[0])"
   ]
  },
  {
   "cell_type": "code",
   "execution_count": 28,
   "id": "1549652e-11b6-4a30-a371-dad8978b0c47",
   "metadata": {},
   "outputs": [
    {
     "data": {
      "text/plain": [
       "2"
      ]
     },
     "execution_count": 28,
     "metadata": {},
     "output_type": "execute_result"
    }
   ],
   "source": [
    "l[1]"
   ]
  },
  {
   "cell_type": "code",
   "execution_count": 30,
   "id": "45d5b765-9566-410a-a557-d39725863f85",
   "metadata": {},
   "outputs": [
    {
     "data": {
      "text/plain": [
       "int"
      ]
     },
     "execution_count": 30,
     "metadata": {},
     "output_type": "execute_result"
    }
   ],
   "source": [
    "type(l[1])"
   ]
  },
  {
   "cell_type": "code",
   "execution_count": 31,
   "id": "627e4625-b51b-444d-a8be-548c51699c14",
   "metadata": {},
   "outputs": [
    {
     "data": {
      "text/plain": [
       "3"
      ]
     },
     "execution_count": 31,
     "metadata": {},
     "output_type": "execute_result"
    }
   ],
   "source": [
    "l[2]"
   ]
  },
  {
   "cell_type": "code",
   "execution_count": 33,
   "id": "9d3c8d12-7bf2-43da-a8d0-274791822e54",
   "metadata": {},
   "outputs": [
    {
     "data": {
      "text/plain": [
       "int"
      ]
     },
     "execution_count": 33,
     "metadata": {},
     "output_type": "execute_result"
    }
   ],
   "source": [
    "type(l[2])"
   ]
  },
  {
   "cell_type": "code",
   "execution_count": 34,
   "id": "c64dfe36-db12-4435-ba92-8b7ce1b1639e",
   "metadata": {},
   "outputs": [
    {
     "data": {
      "text/plain": [
       "4"
      ]
     },
     "execution_count": 34,
     "metadata": {},
     "output_type": "execute_result"
    }
   ],
   "source": [
    "l[3]"
   ]
  },
  {
   "cell_type": "code",
   "execution_count": 35,
   "id": "1ae452e7-f9a7-488e-a2cb-14bfd1cb26d2",
   "metadata": {},
   "outputs": [
    {
     "data": {
      "text/plain": [
       "int"
      ]
     },
     "execution_count": 35,
     "metadata": {},
     "output_type": "execute_result"
    }
   ],
   "source": [
    "type(l[3])"
   ]
  },
  {
   "cell_type": "code",
   "execution_count": 36,
   "id": "b9d6b440-66e9-4767-9626-8155ea2ec352",
   "metadata": {},
   "outputs": [
    {
     "data": {
      "text/plain": [
       "50"
      ]
     },
     "execution_count": 36,
     "metadata": {},
     "output_type": "execute_result"
    }
   ],
   "source": [
    "l[4]"
   ]
  },
  {
   "cell_type": "code",
   "execution_count": 37,
   "id": "5dd8a44f-3cbb-4da0-8124-24d2b62ada04",
   "metadata": {},
   "outputs": [
    {
     "data": {
      "text/plain": [
       "int"
      ]
     },
     "execution_count": 37,
     "metadata": {},
     "output_type": "execute_result"
    }
   ],
   "source": [
    "type(l[4])"
   ]
  },
  {
   "cell_type": "code",
   "execution_count": 38,
   "id": "ee69f721-b948-45c7-84e8-0482276861ef",
   "metadata": {},
   "outputs": [
    {
     "data": {
      "text/plain": [
       "60"
      ]
     },
     "execution_count": 38,
     "metadata": {},
     "output_type": "execute_result"
    }
   ],
   "source": [
    "l[5]"
   ]
  },
  {
   "cell_type": "code",
   "execution_count": 39,
   "id": "cbd37ce6-5e18-4ca7-9023-6fde2ac3f3de",
   "metadata": {},
   "outputs": [
    {
     "data": {
      "text/plain": [
       "int"
      ]
     },
     "execution_count": 39,
     "metadata": {},
     "output_type": "execute_result"
    }
   ],
   "source": [
    "type(l[5])"
   ]
  },
  {
   "cell_type": "code",
   "execution_count": 40,
   "id": "bcb4ca6e-a4bf-4c3f-b67e-15d2edd2cb58",
   "metadata": {},
   "outputs": [
    {
     "data": {
      "text/plain": [
       "(5+7j)"
      ]
     },
     "execution_count": 40,
     "metadata": {},
     "output_type": "execute_result"
    }
   ],
   "source": [
    "l[6]"
   ]
  },
  {
   "cell_type": "code",
   "execution_count": 41,
   "id": "ca32614f-aca9-48fb-aa02-884ab76082a8",
   "metadata": {},
   "outputs": [
    {
     "data": {
      "text/plain": [
       "complex"
      ]
     },
     "execution_count": 41,
     "metadata": {},
     "output_type": "execute_result"
    }
   ],
   "source": [
    "type(l[6])"
   ]
  },
  {
   "cell_type": "code",
   "execution_count": 42,
   "id": "282bd358-d1c8-4859-a173-3a342b7782de",
   "metadata": {},
   "outputs": [
    {
     "data": {
      "text/plain": [
       "'pwskills'"
      ]
     },
     "execution_count": 42,
     "metadata": {},
     "output_type": "execute_result"
    }
   ],
   "source": [
    "l[7]"
   ]
  },
  {
   "cell_type": "code",
   "execution_count": 43,
   "id": "cbc457c6-ae35-4bd9-b1ef-2eaeb8b7a9e1",
   "metadata": {},
   "outputs": [
    {
     "data": {
      "text/plain": [
       "str"
      ]
     },
     "execution_count": 43,
     "metadata": {},
     "output_type": "execute_result"
    }
   ],
   "source": [
    "type(l[7])"
   ]
  },
  {
   "cell_type": "code",
   "execution_count": 44,
   "id": "f40133aa-181a-491f-adb1-45f30fdb046a",
   "metadata": {},
   "outputs": [
    {
     "data": {
      "text/plain": [
       "'sudhanshu'"
      ]
     },
     "execution_count": 44,
     "metadata": {},
     "output_type": "execute_result"
    }
   ],
   "source": [
    "l[8]"
   ]
  },
  {
   "cell_type": "code",
   "execution_count": 45,
   "id": "b3e57c5a-088e-4107-a088-d35c63c0506a",
   "metadata": {},
   "outputs": [
    {
     "data": {
      "text/plain": [
       "str"
      ]
     },
     "execution_count": 45,
     "metadata": {},
     "output_type": "execute_result"
    }
   ],
   "source": [
    "type(l[8])"
   ]
  },
  {
   "cell_type": "code",
   "execution_count": 46,
   "id": "2d85c1fc-f174-4b4e-b15a-697a425fb80f",
   "metadata": {},
   "outputs": [
    {
     "data": {
      "text/plain": [
       "34.56"
      ]
     },
     "execution_count": 46,
     "metadata": {},
     "output_type": "execute_result"
    }
   ],
   "source": [
    "l[9]"
   ]
  },
  {
   "cell_type": "code",
   "execution_count": 49,
   "id": "98a7d502-7a56-404b-acf6-a2337eda7a1f",
   "metadata": {},
   "outputs": [
    {
     "data": {
      "text/plain": [
       "float"
      ]
     },
     "execution_count": 49,
     "metadata": {},
     "output_type": "execute_result"
    }
   ],
   "source": [
    "type(l[9])"
   ]
  },
  {
   "cell_type": "code",
   "execution_count": 7,
   "id": "2fb623b2-b005-4852-9d84-6969723c7c70",
   "metadata": {},
   "outputs": [
    {
     "name": "stdout",
     "output_type": "stream",
     "text": [
      "25 is divisible by 5 5 times.\n"
     ]
    }
   ],
   "source": [
    "def count_divisible(a,b):\n",
    "    count = 0\n",
    "    while a >= b:\n",
    "        a -= b\n",
    "        count += 1\n",
    "    return count\n",
    "#Test the function \n",
    "number_a = 25\n",
    "number_b = 5\n",
    "result = count_divisible(number_a, number_b)\n",
    "print(f\"{number_a} is divisible by {number_b} {result} times.\")\n",
    "    "
   ]
  },
  {
   "cell_type": "code",
   "execution_count": 1,
   "id": "0b66d0fc-28c3-4870-8611-64c4a5a7b299",
   "metadata": {},
   "outputs": [
    {
     "name": "stdout",
     "output_type": "stream",
     "text": [
      "f{num} is not divisible by 3\n",
      "f{num} is not divisible by 3\n",
      "f{num} is divisible by 3\n",
      "f{num} is not divisible by 3\n",
      "f{num} is not divisible by 3\n",
      "f{num} is divisible by 3\n",
      "f{num} is not divisible by 3\n",
      "f{num} is not divisible by 3\n",
      "f{num} is divisible by 3\n",
      "f{num} is not divisible by 3\n",
      "f{num} is not divisible by 3\n",
      "f{num} is divisible by 3\n",
      "f{num} is not divisible by 3\n",
      "f{num} is not divisible by 3\n",
      "f{num} is divisible by 3\n",
      "f{num} is not divisible by 3\n",
      "f{num} is not divisible by 3\n",
      "f{num} is divisible by 3\n",
      "f{num} is not divisible by 3\n",
      "f{num} is not divisible by 3\n",
      "f{num} is divisible by 3\n",
      "f{num} is not divisible by 3\n",
      "f{num} is not divisible by 3\n",
      "f{num} is divisible by 3\n",
      "f{num} is not divisible by 3\n"
     ]
    }
   ],
   "source": [
    "# create an empty list to store the integers\n",
    "integer_list = []\n",
    "\n",
    "#populate the list with 25 integers\n",
    "for i in range(1,26):\n",
    "    integer_list.append(i)\n",
    "    \n",
    "#check if each element is divisible by 3 and print the result\n",
    "for num in integer_list:\n",
    "    if num % 3 == 0:\n",
    "        print(\"f{num} is divisible by 3\")\n",
    "    else:\n",
    "        print(\"f{num} is not divisible by 3\")"
   ]
  },
  {
   "cell_type": "code",
   "execution_count": null,
   "id": "104ec9b6-b260-42cf-9059-038e19b0f244",
   "metadata": {},
   "outputs": [],
   "source": []
  }
 ],
 "metadata": {
  "kernelspec": {
   "display_name": "Python 3 (ipykernel)",
   "language": "python",
   "name": "python3"
  },
  "language_info": {
   "codemirror_mode": {
    "name": "ipython",
    "version": 3
   },
   "file_extension": ".py",
   "mimetype": "text/x-python",
   "name": "python",
   "nbconvert_exporter": "python",
   "pygments_lexer": "ipython3",
   "version": "3.10.8"
  }
 },
 "nbformat": 4,
 "nbformat_minor": 5
}
